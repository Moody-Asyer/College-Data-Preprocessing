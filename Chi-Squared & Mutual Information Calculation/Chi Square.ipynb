{
 "cells": [
  {
   "cell_type": "code",
   "execution_count": 1,
   "id": "8a0199ce",
   "metadata": {},
   "outputs": [
    {
     "data": {
      "text/plain": [
       "(285, 10)"
      ]
     },
     "execution_count": 1,
     "metadata": {},
     "output_type": "execute_result"
    }
   ],
   "source": [
    "import pandas as pd\n",
    "\n",
    "dataset = pd.read_csv('breast-cancer.csv')\n",
    "\n",
    "dataset.shape"
   ]
  },
  {
   "cell_type": "code",
   "execution_count": 2,
   "id": "fa73d377",
   "metadata": {},
   "outputs": [
    {
     "data": {
      "text/html": [
       "<div>\n",
       "<style scoped>\n",
       "    .dataframe tbody tr th:only-of-type {\n",
       "        vertical-align: middle;\n",
       "    }\n",
       "\n",
       "    .dataframe tbody tr th {\n",
       "        vertical-align: top;\n",
       "    }\n",
       "\n",
       "    .dataframe thead th {\n",
       "        text-align: right;\n",
       "    }\n",
       "</style>\n",
       "<table border=\"1\" class=\"dataframe\">\n",
       "  <thead>\n",
       "    <tr style=\"text-align: right;\">\n",
       "      <th></th>\n",
       "      <th>'40-49'</th>\n",
       "      <th>'premeno'</th>\n",
       "      <th>'15-19'</th>\n",
       "      <th>'0-2'</th>\n",
       "      <th>'yes'</th>\n",
       "      <th>'3'</th>\n",
       "      <th>'right'</th>\n",
       "      <th>'left_up'</th>\n",
       "      <th>'no'</th>\n",
       "      <th>'recurrence-events'</th>\n",
       "    </tr>\n",
       "  </thead>\n",
       "  <tbody>\n",
       "    <tr>\n",
       "      <th>0</th>\n",
       "      <td>'50-59'</td>\n",
       "      <td>'ge40'</td>\n",
       "      <td>'15-19'</td>\n",
       "      <td>'0-2'</td>\n",
       "      <td>'no'</td>\n",
       "      <td>'1'</td>\n",
       "      <td>'right'</td>\n",
       "      <td>'central'</td>\n",
       "      <td>'no'</td>\n",
       "      <td>'no-recurrence-events'</td>\n",
       "    </tr>\n",
       "    <tr>\n",
       "      <th>1</th>\n",
       "      <td>'50-59'</td>\n",
       "      <td>'ge40'</td>\n",
       "      <td>'35-39'</td>\n",
       "      <td>'0-2'</td>\n",
       "      <td>'no'</td>\n",
       "      <td>'2'</td>\n",
       "      <td>'left'</td>\n",
       "      <td>'left_low'</td>\n",
       "      <td>'no'</td>\n",
       "      <td>'recurrence-events'</td>\n",
       "    </tr>\n",
       "    <tr>\n",
       "      <th>2</th>\n",
       "      <td>'40-49'</td>\n",
       "      <td>'premeno'</td>\n",
       "      <td>'35-39'</td>\n",
       "      <td>'0-2'</td>\n",
       "      <td>'yes'</td>\n",
       "      <td>'3'</td>\n",
       "      <td>'right'</td>\n",
       "      <td>'left_low'</td>\n",
       "      <td>'yes'</td>\n",
       "      <td>'no-recurrence-events'</td>\n",
       "    </tr>\n",
       "    <tr>\n",
       "      <th>3</th>\n",
       "      <td>'40-49'</td>\n",
       "      <td>'premeno'</td>\n",
       "      <td>'30-34'</td>\n",
       "      <td>'3-5'</td>\n",
       "      <td>'yes'</td>\n",
       "      <td>'2'</td>\n",
       "      <td>'left'</td>\n",
       "      <td>'right_up'</td>\n",
       "      <td>'no'</td>\n",
       "      <td>'recurrence-events'</td>\n",
       "    </tr>\n",
       "    <tr>\n",
       "      <th>4</th>\n",
       "      <td>'50-59'</td>\n",
       "      <td>'premeno'</td>\n",
       "      <td>'25-29'</td>\n",
       "      <td>'3-5'</td>\n",
       "      <td>'no'</td>\n",
       "      <td>'2'</td>\n",
       "      <td>'right'</td>\n",
       "      <td>'left_up'</td>\n",
       "      <td>'yes'</td>\n",
       "      <td>'no-recurrence-events'</td>\n",
       "    </tr>\n",
       "    <tr>\n",
       "      <th>...</th>\n",
       "      <td>...</td>\n",
       "      <td>...</td>\n",
       "      <td>...</td>\n",
       "      <td>...</td>\n",
       "      <td>...</td>\n",
       "      <td>...</td>\n",
       "      <td>...</td>\n",
       "      <td>...</td>\n",
       "      <td>...</td>\n",
       "      <td>...</td>\n",
       "    </tr>\n",
       "    <tr>\n",
       "      <th>280</th>\n",
       "      <td>'50-59'</td>\n",
       "      <td>'ge40'</td>\n",
       "      <td>'30-34'</td>\n",
       "      <td>'6-8'</td>\n",
       "      <td>'yes'</td>\n",
       "      <td>'2'</td>\n",
       "      <td>'left'</td>\n",
       "      <td>'left_low'</td>\n",
       "      <td>'no'</td>\n",
       "      <td>'no-recurrence-events'</td>\n",
       "    </tr>\n",
       "    <tr>\n",
       "      <th>281</th>\n",
       "      <td>'50-59'</td>\n",
       "      <td>'premeno'</td>\n",
       "      <td>'25-29'</td>\n",
       "      <td>'3-5'</td>\n",
       "      <td>'yes'</td>\n",
       "      <td>'2'</td>\n",
       "      <td>'left'</td>\n",
       "      <td>'left_low'</td>\n",
       "      <td>'yes'</td>\n",
       "      <td>'no-recurrence-events'</td>\n",
       "    </tr>\n",
       "    <tr>\n",
       "      <th>282</th>\n",
       "      <td>'30-39'</td>\n",
       "      <td>'premeno'</td>\n",
       "      <td>'30-34'</td>\n",
       "      <td>'6-8'</td>\n",
       "      <td>'yes'</td>\n",
       "      <td>'2'</td>\n",
       "      <td>'right'</td>\n",
       "      <td>'right_up'</td>\n",
       "      <td>'no'</td>\n",
       "      <td>'no-recurrence-events'</td>\n",
       "    </tr>\n",
       "    <tr>\n",
       "      <th>283</th>\n",
       "      <td>'50-59'</td>\n",
       "      <td>'premeno'</td>\n",
       "      <td>'15-19'</td>\n",
       "      <td>'0-2'</td>\n",
       "      <td>'no'</td>\n",
       "      <td>'2'</td>\n",
       "      <td>'right'</td>\n",
       "      <td>'left_low'</td>\n",
       "      <td>'no'</td>\n",
       "      <td>'no-recurrence-events'</td>\n",
       "    </tr>\n",
       "    <tr>\n",
       "      <th>284</th>\n",
       "      <td>'50-59'</td>\n",
       "      <td>'ge40'</td>\n",
       "      <td>'40-44'</td>\n",
       "      <td>'0-2'</td>\n",
       "      <td>'no'</td>\n",
       "      <td>'3'</td>\n",
       "      <td>'left'</td>\n",
       "      <td>'right_up'</td>\n",
       "      <td>'no'</td>\n",
       "      <td>'no-recurrence-events'</td>\n",
       "    </tr>\n",
       "  </tbody>\n",
       "</table>\n",
       "<p>285 rows × 10 columns</p>\n",
       "</div>"
      ],
      "text/plain": [
       "     '40-49'  'premeno'  '15-19'  '0-2'  'yes'  '3'  'right'   'left_up'  \\\n",
       "0    '50-59'     'ge40'  '15-19'  '0-2'   'no'  '1'  'right'   'central'   \n",
       "1    '50-59'     'ge40'  '35-39'  '0-2'   'no'  '2'   'left'  'left_low'   \n",
       "2    '40-49'  'premeno'  '35-39'  '0-2'  'yes'  '3'  'right'  'left_low'   \n",
       "3    '40-49'  'premeno'  '30-34'  '3-5'  'yes'  '2'   'left'  'right_up'   \n",
       "4    '50-59'  'premeno'  '25-29'  '3-5'   'no'  '2'  'right'   'left_up'   \n",
       "..       ...        ...      ...    ...    ...  ...      ...         ...   \n",
       "280  '50-59'     'ge40'  '30-34'  '6-8'  'yes'  '2'   'left'  'left_low'   \n",
       "281  '50-59'  'premeno'  '25-29'  '3-5'  'yes'  '2'   'left'  'left_low'   \n",
       "282  '30-39'  'premeno'  '30-34'  '6-8'  'yes'  '2'  'right'  'right_up'   \n",
       "283  '50-59'  'premeno'  '15-19'  '0-2'   'no'  '2'  'right'  'left_low'   \n",
       "284  '50-59'     'ge40'  '40-44'  '0-2'   'no'  '3'   'left'  'right_up'   \n",
       "\n",
       "      'no'     'recurrence-events'  \n",
       "0     'no'  'no-recurrence-events'  \n",
       "1     'no'     'recurrence-events'  \n",
       "2    'yes'  'no-recurrence-events'  \n",
       "3     'no'     'recurrence-events'  \n",
       "4    'yes'  'no-recurrence-events'  \n",
       "..     ...                     ...  \n",
       "280   'no'  'no-recurrence-events'  \n",
       "281  'yes'  'no-recurrence-events'  \n",
       "282   'no'  'no-recurrence-events'  \n",
       "283   'no'  'no-recurrence-events'  \n",
       "284   'no'  'no-recurrence-events'  \n",
       "\n",
       "[285 rows x 10 columns]"
      ]
     },
     "execution_count": 2,
     "metadata": {},
     "output_type": "execute_result"
    }
   ],
   "source": [
    "dataset"
   ]
  },
  {
   "cell_type": "code",
   "execution_count": 3,
   "id": "fc7ff39d",
   "metadata": {},
   "outputs": [
    {
     "data": {
      "text/plain": [
       "(286, 10)"
      ]
     },
     "execution_count": 3,
     "metadata": {},
     "output_type": "execute_result"
    }
   ],
   "source": [
    "#merapikan dan memberikan keterangan pada dataset\n",
    "dataset = pd.read_csv('breast-cancer.csv', sep = ',', names=['age','menopause','tumor-size','inv-nodes','node-caps','deg-malig','breast','breast-quad','irradiat','Class'])\n",
    "\n",
    "dataset.shape"
   ]
  },
  {
   "cell_type": "code",
   "execution_count": 4,
   "id": "2271f815",
   "metadata": {},
   "outputs": [
    {
     "data": {
      "text/html": [
       "<div>\n",
       "<style scoped>\n",
       "    .dataframe tbody tr th:only-of-type {\n",
       "        vertical-align: middle;\n",
       "    }\n",
       "\n",
       "    .dataframe tbody tr th {\n",
       "        vertical-align: top;\n",
       "    }\n",
       "\n",
       "    .dataframe thead th {\n",
       "        text-align: right;\n",
       "    }\n",
       "</style>\n",
       "<table border=\"1\" class=\"dataframe\">\n",
       "  <thead>\n",
       "    <tr style=\"text-align: right;\">\n",
       "      <th></th>\n",
       "      <th>age</th>\n",
       "      <th>menopause</th>\n",
       "      <th>tumor-size</th>\n",
       "      <th>inv-nodes</th>\n",
       "      <th>node-caps</th>\n",
       "      <th>deg-malig</th>\n",
       "      <th>breast</th>\n",
       "      <th>breast-quad</th>\n",
       "      <th>irradiat</th>\n",
       "      <th>Class</th>\n",
       "    </tr>\n",
       "  </thead>\n",
       "  <tbody>\n",
       "    <tr>\n",
       "      <th>0</th>\n",
       "      <td>'40-49'</td>\n",
       "      <td>'premeno'</td>\n",
       "      <td>'15-19'</td>\n",
       "      <td>'0-2'</td>\n",
       "      <td>'yes'</td>\n",
       "      <td>'3'</td>\n",
       "      <td>'right'</td>\n",
       "      <td>'left_up'</td>\n",
       "      <td>'no'</td>\n",
       "      <td>'recurrence-events'</td>\n",
       "    </tr>\n",
       "    <tr>\n",
       "      <th>1</th>\n",
       "      <td>'50-59'</td>\n",
       "      <td>'ge40'</td>\n",
       "      <td>'15-19'</td>\n",
       "      <td>'0-2'</td>\n",
       "      <td>'no'</td>\n",
       "      <td>'1'</td>\n",
       "      <td>'right'</td>\n",
       "      <td>'central'</td>\n",
       "      <td>'no'</td>\n",
       "      <td>'no-recurrence-events'</td>\n",
       "    </tr>\n",
       "    <tr>\n",
       "      <th>2</th>\n",
       "      <td>'50-59'</td>\n",
       "      <td>'ge40'</td>\n",
       "      <td>'35-39'</td>\n",
       "      <td>'0-2'</td>\n",
       "      <td>'no'</td>\n",
       "      <td>'2'</td>\n",
       "      <td>'left'</td>\n",
       "      <td>'left_low'</td>\n",
       "      <td>'no'</td>\n",
       "      <td>'recurrence-events'</td>\n",
       "    </tr>\n",
       "    <tr>\n",
       "      <th>3</th>\n",
       "      <td>'40-49'</td>\n",
       "      <td>'premeno'</td>\n",
       "      <td>'35-39'</td>\n",
       "      <td>'0-2'</td>\n",
       "      <td>'yes'</td>\n",
       "      <td>'3'</td>\n",
       "      <td>'right'</td>\n",
       "      <td>'left_low'</td>\n",
       "      <td>'yes'</td>\n",
       "      <td>'no-recurrence-events'</td>\n",
       "    </tr>\n",
       "    <tr>\n",
       "      <th>4</th>\n",
       "      <td>'40-49'</td>\n",
       "      <td>'premeno'</td>\n",
       "      <td>'30-34'</td>\n",
       "      <td>'3-5'</td>\n",
       "      <td>'yes'</td>\n",
       "      <td>'2'</td>\n",
       "      <td>'left'</td>\n",
       "      <td>'right_up'</td>\n",
       "      <td>'no'</td>\n",
       "      <td>'recurrence-events'</td>\n",
       "    </tr>\n",
       "    <tr>\n",
       "      <th>...</th>\n",
       "      <td>...</td>\n",
       "      <td>...</td>\n",
       "      <td>...</td>\n",
       "      <td>...</td>\n",
       "      <td>...</td>\n",
       "      <td>...</td>\n",
       "      <td>...</td>\n",
       "      <td>...</td>\n",
       "      <td>...</td>\n",
       "      <td>...</td>\n",
       "    </tr>\n",
       "    <tr>\n",
       "      <th>281</th>\n",
       "      <td>'50-59'</td>\n",
       "      <td>'ge40'</td>\n",
       "      <td>'30-34'</td>\n",
       "      <td>'6-8'</td>\n",
       "      <td>'yes'</td>\n",
       "      <td>'2'</td>\n",
       "      <td>'left'</td>\n",
       "      <td>'left_low'</td>\n",
       "      <td>'no'</td>\n",
       "      <td>'no-recurrence-events'</td>\n",
       "    </tr>\n",
       "    <tr>\n",
       "      <th>282</th>\n",
       "      <td>'50-59'</td>\n",
       "      <td>'premeno'</td>\n",
       "      <td>'25-29'</td>\n",
       "      <td>'3-5'</td>\n",
       "      <td>'yes'</td>\n",
       "      <td>'2'</td>\n",
       "      <td>'left'</td>\n",
       "      <td>'left_low'</td>\n",
       "      <td>'yes'</td>\n",
       "      <td>'no-recurrence-events'</td>\n",
       "    </tr>\n",
       "    <tr>\n",
       "      <th>283</th>\n",
       "      <td>'30-39'</td>\n",
       "      <td>'premeno'</td>\n",
       "      <td>'30-34'</td>\n",
       "      <td>'6-8'</td>\n",
       "      <td>'yes'</td>\n",
       "      <td>'2'</td>\n",
       "      <td>'right'</td>\n",
       "      <td>'right_up'</td>\n",
       "      <td>'no'</td>\n",
       "      <td>'no-recurrence-events'</td>\n",
       "    </tr>\n",
       "    <tr>\n",
       "      <th>284</th>\n",
       "      <td>'50-59'</td>\n",
       "      <td>'premeno'</td>\n",
       "      <td>'15-19'</td>\n",
       "      <td>'0-2'</td>\n",
       "      <td>'no'</td>\n",
       "      <td>'2'</td>\n",
       "      <td>'right'</td>\n",
       "      <td>'left_low'</td>\n",
       "      <td>'no'</td>\n",
       "      <td>'no-recurrence-events'</td>\n",
       "    </tr>\n",
       "    <tr>\n",
       "      <th>285</th>\n",
       "      <td>'50-59'</td>\n",
       "      <td>'ge40'</td>\n",
       "      <td>'40-44'</td>\n",
       "      <td>'0-2'</td>\n",
       "      <td>'no'</td>\n",
       "      <td>'3'</td>\n",
       "      <td>'left'</td>\n",
       "      <td>'right_up'</td>\n",
       "      <td>'no'</td>\n",
       "      <td>'no-recurrence-events'</td>\n",
       "    </tr>\n",
       "  </tbody>\n",
       "</table>\n",
       "<p>286 rows × 10 columns</p>\n",
       "</div>"
      ],
      "text/plain": [
       "         age  menopause tumor-size inv-nodes node-caps deg-malig   breast  \\\n",
       "0    '40-49'  'premeno'    '15-19'     '0-2'     'yes'       '3'  'right'   \n",
       "1    '50-59'     'ge40'    '15-19'     '0-2'      'no'       '1'  'right'   \n",
       "2    '50-59'     'ge40'    '35-39'     '0-2'      'no'       '2'   'left'   \n",
       "3    '40-49'  'premeno'    '35-39'     '0-2'     'yes'       '3'  'right'   \n",
       "4    '40-49'  'premeno'    '30-34'     '3-5'     'yes'       '2'   'left'   \n",
       "..       ...        ...        ...       ...       ...       ...      ...   \n",
       "281  '50-59'     'ge40'    '30-34'     '6-8'     'yes'       '2'   'left'   \n",
       "282  '50-59'  'premeno'    '25-29'     '3-5'     'yes'       '2'   'left'   \n",
       "283  '30-39'  'premeno'    '30-34'     '6-8'     'yes'       '2'  'right'   \n",
       "284  '50-59'  'premeno'    '15-19'     '0-2'      'no'       '2'  'right'   \n",
       "285  '50-59'     'ge40'    '40-44'     '0-2'      'no'       '3'   'left'   \n",
       "\n",
       "    breast-quad irradiat                   Class  \n",
       "0     'left_up'     'no'     'recurrence-events'  \n",
       "1     'central'     'no'  'no-recurrence-events'  \n",
       "2    'left_low'     'no'     'recurrence-events'  \n",
       "3    'left_low'    'yes'  'no-recurrence-events'  \n",
       "4    'right_up'     'no'     'recurrence-events'  \n",
       "..          ...      ...                     ...  \n",
       "281  'left_low'     'no'  'no-recurrence-events'  \n",
       "282  'left_low'    'yes'  'no-recurrence-events'  \n",
       "283  'right_up'     'no'  'no-recurrence-events'  \n",
       "284  'left_low'     'no'  'no-recurrence-events'  \n",
       "285  'right_up'     'no'  'no-recurrence-events'  \n",
       "\n",
       "[286 rows x 10 columns]"
      ]
     },
     "execution_count": 4,
     "metadata": {},
     "output_type": "execute_result"
    }
   ],
   "source": [
    "dataset"
   ]
  },
  {
   "cell_type": "code",
   "execution_count": 5,
   "id": "c18310ee",
   "metadata": {},
   "outputs": [
    {
     "name": "stdout",
     "output_type": "stream",
     "text": [
      "<class 'pandas.core.frame.DataFrame'>\n",
      "RangeIndex: 286 entries, 0 to 285\n",
      "Data columns (total 10 columns):\n",
      " #   Column       Non-Null Count  Dtype \n",
      "---  ------       --------------  ----- \n",
      " 0   age          286 non-null    object\n",
      " 1   menopause    286 non-null    object\n",
      " 2   tumor-size   286 non-null    object\n",
      " 3   inv-nodes    286 non-null    object\n",
      " 4   node-caps    278 non-null    object\n",
      " 5   deg-malig    286 non-null    object\n",
      " 6   breast       286 non-null    object\n",
      " 7   breast-quad  285 non-null    object\n",
      " 8   irradiat     286 non-null    object\n",
      " 9   Class        286 non-null    object\n",
      "dtypes: object(10)\n",
      "memory usage: 22.5+ KB\n"
     ]
    }
   ],
   "source": [
    "dataset.info()"
   ]
  },
  {
   "cell_type": "code",
   "execution_count": 6,
   "id": "16e81ca0",
   "metadata": {},
   "outputs": [
    {
     "data": {
      "text/html": [
       "<div>\n",
       "<style scoped>\n",
       "    .dataframe tbody tr th:only-of-type {\n",
       "        vertical-align: middle;\n",
       "    }\n",
       "\n",
       "    .dataframe tbody tr th {\n",
       "        vertical-align: top;\n",
       "    }\n",
       "\n",
       "    .dataframe thead th {\n",
       "        text-align: right;\n",
       "    }\n",
       "</style>\n",
       "<table border=\"1\" class=\"dataframe\">\n",
       "  <thead>\n",
       "    <tr style=\"text-align: right;\">\n",
       "      <th></th>\n",
       "      <th>tumor-size</th>\n",
       "      <th>node-caps</th>\n",
       "    </tr>\n",
       "  </thead>\n",
       "  <tbody>\n",
       "    <tr>\n",
       "      <th>0</th>\n",
       "      <td>'15-19'</td>\n",
       "      <td>'yes'</td>\n",
       "    </tr>\n",
       "    <tr>\n",
       "      <th>1</th>\n",
       "      <td>'15-19'</td>\n",
       "      <td>'no'</td>\n",
       "    </tr>\n",
       "    <tr>\n",
       "      <th>2</th>\n",
       "      <td>'35-39'</td>\n",
       "      <td>'no'</td>\n",
       "    </tr>\n",
       "    <tr>\n",
       "      <th>3</th>\n",
       "      <td>'35-39'</td>\n",
       "      <td>'yes'</td>\n",
       "    </tr>\n",
       "    <tr>\n",
       "      <th>4</th>\n",
       "      <td>'30-34'</td>\n",
       "      <td>'yes'</td>\n",
       "    </tr>\n",
       "    <tr>\n",
       "      <th>...</th>\n",
       "      <td>...</td>\n",
       "      <td>...</td>\n",
       "    </tr>\n",
       "    <tr>\n",
       "      <th>281</th>\n",
       "      <td>'30-34'</td>\n",
       "      <td>'yes'</td>\n",
       "    </tr>\n",
       "    <tr>\n",
       "      <th>282</th>\n",
       "      <td>'25-29'</td>\n",
       "      <td>'yes'</td>\n",
       "    </tr>\n",
       "    <tr>\n",
       "      <th>283</th>\n",
       "      <td>'30-34'</td>\n",
       "      <td>'yes'</td>\n",
       "    </tr>\n",
       "    <tr>\n",
       "      <th>284</th>\n",
       "      <td>'15-19'</td>\n",
       "      <td>'no'</td>\n",
       "    </tr>\n",
       "    <tr>\n",
       "      <th>285</th>\n",
       "      <td>'40-44'</td>\n",
       "      <td>'no'</td>\n",
       "    </tr>\n",
       "  </tbody>\n",
       "</table>\n",
       "<p>286 rows × 2 columns</p>\n",
       "</div>"
      ],
      "text/plain": [
       "    tumor-size node-caps\n",
       "0      '15-19'     'yes'\n",
       "1      '15-19'      'no'\n",
       "2      '35-39'      'no'\n",
       "3      '35-39'     'yes'\n",
       "4      '30-34'     'yes'\n",
       "..         ...       ...\n",
       "281    '30-34'     'yes'\n",
       "282    '25-29'     'yes'\n",
       "283    '30-34'     'yes'\n",
       "284    '15-19'      'no'\n",
       "285    '40-44'      'no'\n",
       "\n",
       "[286 rows x 2 columns]"
      ]
     },
     "execution_count": 6,
     "metadata": {},
     "output_type": "execute_result"
    }
   ],
   "source": [
    "dataset = dataset.drop(columns=['age','menopause','inv-nodes','deg-malig','breast','breast-quad','irradiat','Class'])\n",
    "\n",
    "dataset"
   ]
  },
  {
   "cell_type": "code",
   "execution_count": 7,
   "id": "bc54785b",
   "metadata": {},
   "outputs": [
    {
     "name": "stdout",
     "output_type": "stream",
     "text": [
      "<class 'pandas.core.frame.DataFrame'>\n",
      "RangeIndex: 286 entries, 0 to 285\n",
      "Data columns (total 2 columns):\n",
      " #   Column      Non-Null Count  Dtype \n",
      "---  ------      --------------  ----- \n",
      " 0   tumor-size  286 non-null    object\n",
      " 1   node-caps   278 non-null    object\n",
      "dtypes: object(2)\n",
      "memory usage: 4.6+ KB\n"
     ]
    }
   ],
   "source": [
    "dataset.info()"
   ]
  },
  {
   "cell_type": "code",
   "execution_count": 8,
   "id": "2f375e01",
   "metadata": {},
   "outputs": [],
   "source": [
    "dataset = dataset.dropna()"
   ]
  },
  {
   "cell_type": "code",
   "execution_count": 9,
   "id": "401e3e8d",
   "metadata": {},
   "outputs": [
    {
     "name": "stdout",
     "output_type": "stream",
     "text": [
      "<class 'pandas.core.frame.DataFrame'>\n",
      "Int64Index: 278 entries, 0 to 285\n",
      "Data columns (total 2 columns):\n",
      " #   Column      Non-Null Count  Dtype \n",
      "---  ------      --------------  ----- \n",
      " 0   tumor-size  278 non-null    object\n",
      " 1   node-caps   278 non-null    object\n",
      "dtypes: object(2)\n",
      "memory usage: 6.5+ KB\n"
     ]
    }
   ],
   "source": [
    "dataset.info()"
   ]
  },
  {
   "cell_type": "code",
   "execution_count": 10,
   "id": "f261a8c4",
   "metadata": {},
   "outputs": [
    {
     "data": {
      "text/html": [
       "<div>\n",
       "<style scoped>\n",
       "    .dataframe tbody tr th:only-of-type {\n",
       "        vertical-align: middle;\n",
       "    }\n",
       "\n",
       "    .dataframe tbody tr th {\n",
       "        vertical-align: top;\n",
       "    }\n",
       "\n",
       "    .dataframe thead th {\n",
       "        text-align: right;\n",
       "    }\n",
       "</style>\n",
       "<table border=\"1\" class=\"dataframe\">\n",
       "  <thead>\n",
       "    <tr style=\"text-align: right;\">\n",
       "      <th>node-caps</th>\n",
       "      <th>'no'</th>\n",
       "      <th>'yes'</th>\n",
       "      <th>All</th>\n",
       "    </tr>\n",
       "    <tr>\n",
       "      <th>tumor-size</th>\n",
       "      <th></th>\n",
       "      <th></th>\n",
       "      <th></th>\n",
       "    </tr>\n",
       "  </thead>\n",
       "  <tbody>\n",
       "    <tr>\n",
       "      <th>'0-4'</th>\n",
       "      <td>8</td>\n",
       "      <td>0</td>\n",
       "      <td>8</td>\n",
       "    </tr>\n",
       "    <tr>\n",
       "      <th>'10-14'</th>\n",
       "      <td>27</td>\n",
       "      <td>1</td>\n",
       "      <td>28</td>\n",
       "    </tr>\n",
       "    <tr>\n",
       "      <th>'15-19'</th>\n",
       "      <td>25</td>\n",
       "      <td>4</td>\n",
       "      <td>29</td>\n",
       "    </tr>\n",
       "    <tr>\n",
       "      <th>'20-24'</th>\n",
       "      <td>39</td>\n",
       "      <td>9</td>\n",
       "      <td>48</td>\n",
       "    </tr>\n",
       "    <tr>\n",
       "      <th>'25-29'</th>\n",
       "      <td>41</td>\n",
       "      <td>10</td>\n",
       "      <td>51</td>\n",
       "    </tr>\n",
       "    <tr>\n",
       "      <th>'30-34'</th>\n",
       "      <td>42</td>\n",
       "      <td>16</td>\n",
       "      <td>58</td>\n",
       "    </tr>\n",
       "    <tr>\n",
       "      <th>'35-39'</th>\n",
       "      <td>12</td>\n",
       "      <td>7</td>\n",
       "      <td>19</td>\n",
       "    </tr>\n",
       "    <tr>\n",
       "      <th>'40-44'</th>\n",
       "      <td>16</td>\n",
       "      <td>6</td>\n",
       "      <td>22</td>\n",
       "    </tr>\n",
       "    <tr>\n",
       "      <th>'45-49'</th>\n",
       "      <td>2</td>\n",
       "      <td>1</td>\n",
       "      <td>3</td>\n",
       "    </tr>\n",
       "    <tr>\n",
       "      <th>'5-9'</th>\n",
       "      <td>4</td>\n",
       "      <td>0</td>\n",
       "      <td>4</td>\n",
       "    </tr>\n",
       "    <tr>\n",
       "      <th>'50-54'</th>\n",
       "      <td>6</td>\n",
       "      <td>2</td>\n",
       "      <td>8</td>\n",
       "    </tr>\n",
       "    <tr>\n",
       "      <th>All</th>\n",
       "      <td>222</td>\n",
       "      <td>56</td>\n",
       "      <td>278</td>\n",
       "    </tr>\n",
       "  </tbody>\n",
       "</table>\n",
       "</div>"
      ],
      "text/plain": [
       "node-caps   'no'  'yes'  All\n",
       "tumor-size                  \n",
       "'0-4'          8      0    8\n",
       "'10-14'       27      1   28\n",
       "'15-19'       25      4   29\n",
       "'20-24'       39      9   48\n",
       "'25-29'       41     10   51\n",
       "'30-34'       42     16   58\n",
       "'35-39'       12      7   19\n",
       "'40-44'       16      6   22\n",
       "'45-49'        2      1    3\n",
       "'5-9'          4      0    4\n",
       "'50-54'        6      2    8\n",
       "All          222     56  278"
      ]
     },
     "execution_count": 10,
     "metadata": {},
     "output_type": "execute_result"
    }
   ],
   "source": [
    "#membuat contigency table\n",
    "contigency_table = pd.crosstab(index=dataset['tumor-size'], columns=dataset['node-caps'], margins=True)\n",
    "\n",
    "contigency_table"
   ]
  },
  {
   "cell_type": "code",
   "execution_count": 11,
   "id": "d2f8947f",
   "metadata": {},
   "outputs": [],
   "source": [
    "#menghitung setiap expected value\n",
    "#'0-4' yes\n",
    "p = (56/278)*(8/278)\n",
    "ev1 = 278*p"
   ]
  },
  {
   "cell_type": "code",
   "execution_count": 12,
   "id": "ff96f212",
   "metadata": {},
   "outputs": [
    {
     "data": {
      "text/plain": [
       "6.388489208633094"
      ]
     },
     "execution_count": 12,
     "metadata": {},
     "output_type": "execute_result"
    }
   ],
   "source": [
    "#menghitung setiap expected value\n",
    "#'0-4' no\n",
    "p = (222/278)*(8/278)\n",
    "ev2 = 278*p\n",
    "ev2"
   ]
  },
  {
   "cell_type": "code",
   "execution_count": 13,
   "id": "635fbdbe",
   "metadata": {},
   "outputs": [
    {
     "data": {
      "text/plain": [
       "0.8057553956834532"
      ]
     },
     "execution_count": 13,
     "metadata": {},
     "output_type": "execute_result"
    }
   ],
   "source": [
    "#'5-9' yes\n",
    "p = (56/278)*(4/278)\n",
    "ev3 = 278*p\n",
    "ev3"
   ]
  },
  {
   "cell_type": "code",
   "execution_count": 14,
   "id": "3433db5b",
   "metadata": {},
   "outputs": [
    {
     "data": {
      "text/plain": [
       "3.194244604316547"
      ]
     },
     "execution_count": 14,
     "metadata": {},
     "output_type": "execute_result"
    }
   ],
   "source": [
    "#'5-9' no\n",
    "p = (222/278)*(4/278)\n",
    "ev4 = 278*p\n",
    "ev4"
   ]
  },
  {
   "cell_type": "code",
   "execution_count": 15,
   "id": "6bf07f54",
   "metadata": {},
   "outputs": [
    {
     "data": {
      "text/plain": [
       "5.640287769784173"
      ]
     },
     "execution_count": 15,
     "metadata": {},
     "output_type": "execute_result"
    }
   ],
   "source": [
    "#'10-14' yes\n",
    "p = (56/278)*(28/278)\n",
    "ev5 = 278*p\n",
    "ev5"
   ]
  },
  {
   "cell_type": "code",
   "execution_count": 16,
   "id": "cd801361",
   "metadata": {},
   "outputs": [
    {
     "data": {
      "text/plain": [
       "22.35971223021583"
      ]
     },
     "execution_count": 16,
     "metadata": {},
     "output_type": "execute_result"
    }
   ],
   "source": [
    "#'10-14' no\n",
    "p = (222/278)*(28/278)\n",
    "ev6 = 278*p\n",
    "ev6"
   ]
  },
  {
   "cell_type": "code",
   "execution_count": 17,
   "id": "51bd535f",
   "metadata": {},
   "outputs": [
    {
     "data": {
      "text/plain": [
       "5.841726618705036"
      ]
     },
     "execution_count": 17,
     "metadata": {},
     "output_type": "execute_result"
    }
   ],
   "source": [
    "#'15-19' yes\n",
    "p = (56/278)*(29/278)\n",
    "ev7 = 278*p\n",
    "ev7"
   ]
  },
  {
   "cell_type": "code",
   "execution_count": 18,
   "id": "39c9c3d4",
   "metadata": {},
   "outputs": [
    {
     "data": {
      "text/plain": [
       "23.158273381294965"
      ]
     },
     "execution_count": 18,
     "metadata": {},
     "output_type": "execute_result"
    }
   ],
   "source": [
    "#'15-19' no\n",
    "p = (222/278)*(29/278)\n",
    "ev8 = 278*p\n",
    "ev8"
   ]
  },
  {
   "cell_type": "code",
   "execution_count": 19,
   "id": "919205e5",
   "metadata": {},
   "outputs": [
    {
     "data": {
      "text/plain": [
       "9.66906474820144"
      ]
     },
     "execution_count": 19,
     "metadata": {},
     "output_type": "execute_result"
    }
   ],
   "source": [
    "#'20-24' yes\n",
    "p = (56/278)*(48/278)\n",
    "ev9 = 278*p\n",
    "ev9"
   ]
  },
  {
   "cell_type": "code",
   "execution_count": 20,
   "id": "a26cd8c7",
   "metadata": {},
   "outputs": [
    {
     "data": {
      "text/plain": [
       "38.330935251798564"
      ]
     },
     "execution_count": 20,
     "metadata": {},
     "output_type": "execute_result"
    }
   ],
   "source": [
    "#'20-24' no\n",
    "p = (222/278)*(48/278)\n",
    "ev10 = 278*p\n",
    "ev10"
   ]
  },
  {
   "cell_type": "code",
   "execution_count": 21,
   "id": "d3bbbe60",
   "metadata": {},
   "outputs": [
    {
     "data": {
      "text/plain": [
       "10.273381294964029"
      ]
     },
     "execution_count": 21,
     "metadata": {},
     "output_type": "execute_result"
    }
   ],
   "source": [
    "#'25-29' yes\n",
    "p = (56/278)*(51/278)\n",
    "ev11 = 278*p\n",
    "ev11"
   ]
  },
  {
   "cell_type": "code",
   "execution_count": 22,
   "id": "11f9d12e",
   "metadata": {},
   "outputs": [
    {
     "data": {
      "text/plain": [
       "40.726618705035975"
      ]
     },
     "execution_count": 22,
     "metadata": {},
     "output_type": "execute_result"
    }
   ],
   "source": [
    "#'25-29' no\n",
    "p = (222/278)*(51/278)\n",
    "ev12 = 278*p\n",
    "ev12"
   ]
  },
  {
   "cell_type": "code",
   "execution_count": 23,
   "id": "29294f83",
   "metadata": {},
   "outputs": [
    {
     "data": {
      "text/plain": [
       "11.683453237410072"
      ]
     },
     "execution_count": 23,
     "metadata": {},
     "output_type": "execute_result"
    }
   ],
   "source": [
    "#'30-34' yes\n",
    "p = (56/278)*(58/278)\n",
    "ev13 = 278*p\n",
    "ev13"
   ]
  },
  {
   "cell_type": "code",
   "execution_count": 24,
   "id": "2670dc52",
   "metadata": {},
   "outputs": [
    {
     "data": {
      "text/plain": [
       "46.31654676258993"
      ]
     },
     "execution_count": 24,
     "metadata": {},
     "output_type": "execute_result"
    }
   ],
   "source": [
    "#'30-34' no\n",
    "p = (222/278)*(58/278)\n",
    "ev14 = 278*p\n",
    "ev14"
   ]
  },
  {
   "cell_type": "code",
   "execution_count": 25,
   "id": "c1ee0b7a",
   "metadata": {},
   "outputs": [
    {
     "data": {
      "text/plain": [
       "3.8273381294964035"
      ]
     },
     "execution_count": 25,
     "metadata": {},
     "output_type": "execute_result"
    }
   ],
   "source": [
    "#'35-39' yes\n",
    "p = (56/278)*(19/278)\n",
    "ev15 = 278*p\n",
    "ev15"
   ]
  },
  {
   "cell_type": "code",
   "execution_count": 26,
   "id": "b5a1109b",
   "metadata": {},
   "outputs": [
    {
     "data": {
      "text/plain": [
       "15.1726618705036"
      ]
     },
     "execution_count": 26,
     "metadata": {},
     "output_type": "execute_result"
    }
   ],
   "source": [
    "#'35-39' no\n",
    "p = (222/278)*(19/278)\n",
    "ev16 = 278*p\n",
    "ev16"
   ]
  },
  {
   "cell_type": "code",
   "execution_count": 27,
   "id": "a4b3a867",
   "metadata": {},
   "outputs": [
    {
     "data": {
      "text/plain": [
       "4.431654676258992"
      ]
     },
     "execution_count": 27,
     "metadata": {},
     "output_type": "execute_result"
    }
   ],
   "source": [
    "#'40-44' yes\n",
    "p = (56/278)*(22/278)\n",
    "ev17 = 278*p\n",
    "ev17"
   ]
  },
  {
   "cell_type": "code",
   "execution_count": 28,
   "id": "07b956ec",
   "metadata": {},
   "outputs": [
    {
     "data": {
      "text/plain": [
       "17.568345323741006"
      ]
     },
     "execution_count": 28,
     "metadata": {},
     "output_type": "execute_result"
    }
   ],
   "source": [
    "#'40-44' no\n",
    "p = (222/278)*(22/278)\n",
    "ev18 = 278*p\n",
    "ev18"
   ]
  },
  {
   "cell_type": "code",
   "execution_count": 29,
   "id": "b2c2bb07",
   "metadata": {},
   "outputs": [
    {
     "data": {
      "text/plain": [
       "0.60431654676259"
      ]
     },
     "execution_count": 29,
     "metadata": {},
     "output_type": "execute_result"
    }
   ],
   "source": [
    "#'45-49' yes\n",
    "p = (56/278)*(3/278)\n",
    "ev19 = 278*p\n",
    "ev19"
   ]
  },
  {
   "cell_type": "code",
   "execution_count": 30,
   "id": "1156cf63",
   "metadata": {},
   "outputs": [
    {
     "data": {
      "text/plain": [
       "2.3956834532374103"
      ]
     },
     "execution_count": 30,
     "metadata": {},
     "output_type": "execute_result"
    }
   ],
   "source": [
    "#'45-49' no\n",
    "p = (222/278)*(3/278)\n",
    "ev20 = 278*p\n",
    "ev20"
   ]
  },
  {
   "cell_type": "code",
   "execution_count": 31,
   "id": "fa446cb7",
   "metadata": {},
   "outputs": [
    {
     "data": {
      "text/plain": [
       "1.6115107913669064"
      ]
     },
     "execution_count": 31,
     "metadata": {},
     "output_type": "execute_result"
    }
   ],
   "source": [
    "#'50-54' yes\n",
    "p = (56/278)*(8/278)\n",
    "ev21 = 278*p\n",
    "ev21"
   ]
  },
  {
   "cell_type": "code",
   "execution_count": 32,
   "id": "4942a278",
   "metadata": {},
   "outputs": [
    {
     "data": {
      "text/plain": [
       "6.388489208633094"
      ]
     },
     "execution_count": 32,
     "metadata": {},
     "output_type": "execute_result"
    }
   ],
   "source": [
    "#'50-54' no\n",
    "p = (222/278)*(8/278)\n",
    "ev22 = 278*p\n",
    "ev22"
   ]
  },
  {
   "cell_type": "code",
   "execution_count": 33,
   "id": "a49fc947",
   "metadata": {},
   "outputs": [],
   "source": [
    "#menghitung nilai statistik chi-square\n",
    "chi_square = []"
   ]
  },
  {
   "cell_type": "code",
   "execution_count": 34,
   "id": "480fee33",
   "metadata": {},
   "outputs": [],
   "source": [
    "#'0-4' yes\n",
    "OE1 = 0-ev1\n",
    "square_of_oe1 = OE1**2\n",
    "chi_square.append(square_of_oe1/ev1)"
   ]
  },
  {
   "cell_type": "code",
   "execution_count": 35,
   "id": "bda49e30",
   "metadata": {},
   "outputs": [],
   "source": [
    "#'0-4' no\n",
    "OE2 = 8-ev2\n",
    "square_of_oe2 = OE2**2\n",
    "chi_square.append(square_of_oe2/ev2)"
   ]
  },
  {
   "cell_type": "code",
   "execution_count": 36,
   "id": "41ac5b26",
   "metadata": {},
   "outputs": [],
   "source": [
    "#'5-9' yes\n",
    "OE3 = 0-ev3\n",
    "square_of_oe3 = OE3**2\n",
    "chi_square.append(square_of_oe3/ev3)"
   ]
  },
  {
   "cell_type": "code",
   "execution_count": 37,
   "id": "9a906c3c",
   "metadata": {},
   "outputs": [],
   "source": [
    "#'5-9' no\n",
    "OE4 = 4-ev4\n",
    "square_of_oe4 = OE4**2\n",
    "chi_square.append(square_of_oe4/ev4)"
   ]
  },
  {
   "cell_type": "code",
   "execution_count": 38,
   "id": "e0df19e1",
   "metadata": {},
   "outputs": [],
   "source": [
    "#'10-14' yes\n",
    "OE5 = 1-ev5\n",
    "square_of_oe5 = OE5**2\n",
    "chi_square.append(square_of_oe5/ev5)"
   ]
  },
  {
   "cell_type": "code",
   "execution_count": 39,
   "id": "08bded28",
   "metadata": {},
   "outputs": [],
   "source": [
    "#'10-14' no\n",
    "OE6 = 27-ev6\n",
    "square_of_oe6 = OE6**2\n",
    "chi_square.append(square_of_oe6/ev6)"
   ]
  },
  {
   "cell_type": "code",
   "execution_count": 40,
   "id": "030e7853",
   "metadata": {},
   "outputs": [],
   "source": [
    "#'15-19' yes\n",
    "OE7 = 4-ev7\n",
    "square_of_oe7 = OE7**2\n",
    "chi_square.append(square_of_oe7/ev7)"
   ]
  },
  {
   "cell_type": "code",
   "execution_count": 41,
   "id": "3d75dc32",
   "metadata": {},
   "outputs": [],
   "source": [
    "#'15-19' no\n",
    "OE8 = 25-ev8\n",
    "square_of_oe8 = OE8**2\n",
    "chi_square.append(square_of_oe8/ev8)"
   ]
  },
  {
   "cell_type": "code",
   "execution_count": 42,
   "id": "0e7af0f0",
   "metadata": {},
   "outputs": [],
   "source": [
    "#'20-24' yes\n",
    "OE9 = 9-ev9\n",
    "square_of_oe9 = OE9**2\n",
    "chi_square.append(square_of_oe9/ev9)"
   ]
  },
  {
   "cell_type": "code",
   "execution_count": 43,
   "id": "6c98f633",
   "metadata": {},
   "outputs": [],
   "source": [
    "#'20-24' no\n",
    "OE10 = 39-ev10\n",
    "square_of_oe10 = OE10**2\n",
    "chi_square.append(square_of_oe10/ev10)"
   ]
  },
  {
   "cell_type": "code",
   "execution_count": 44,
   "id": "d52e1f3e",
   "metadata": {},
   "outputs": [],
   "source": [
    "#'25-29' yes\n",
    "OE11 = 10-ev11\n",
    "square_of_oe11 = OE11**2\n",
    "chi_square.append(square_of_oe11/ev11)"
   ]
  },
  {
   "cell_type": "code",
   "execution_count": 45,
   "id": "b321b182",
   "metadata": {},
   "outputs": [],
   "source": [
    "#'25-29' no\n",
    "OE12 = 41-ev12\n",
    "square_of_oe12 = OE12**2\n",
    "chi_square.append(square_of_oe12/ev12)"
   ]
  },
  {
   "cell_type": "code",
   "execution_count": 46,
   "id": "436cfee9",
   "metadata": {},
   "outputs": [],
   "source": [
    "#'30-34' yes\n",
    "OE13 = 16-ev13\n",
    "square_of_oe13 = OE13**2\n",
    "chi_square.append(square_of_oe13/ev13)"
   ]
  },
  {
   "cell_type": "code",
   "execution_count": 47,
   "id": "b7b26d5c",
   "metadata": {},
   "outputs": [],
   "source": [
    "#'30-34' no\n",
    "OE14 = 42-ev14\n",
    "square_of_oe14 = OE14**2\n",
    "chi_square.append(square_of_oe14/ev14)"
   ]
  },
  {
   "cell_type": "code",
   "execution_count": 48,
   "id": "b920407a",
   "metadata": {},
   "outputs": [],
   "source": [
    "#'35-39' yes7\n",
    "OE15 = 7-ev15\n",
    "square_of_oe15 = OE15**2\n",
    "chi_square.append(square_of_oe15/ev15)"
   ]
  },
  {
   "cell_type": "code",
   "execution_count": 49,
   "id": "ea60fc83",
   "metadata": {},
   "outputs": [],
   "source": [
    "#'35-39' no\n",
    "OE16 = 12-ev16\n",
    "square_of_oe16 = OE16**2\n",
    "chi_square.append(square_of_oe16/ev16)"
   ]
  },
  {
   "cell_type": "code",
   "execution_count": 50,
   "id": "067a7d00",
   "metadata": {},
   "outputs": [],
   "source": [
    "#'40-44' yes\n",
    "OE17 = 6-ev17\n",
    "square_of_oe17 = OE17**2\n",
    "chi_square.append(square_of_oe17/ev17)"
   ]
  },
  {
   "cell_type": "code",
   "execution_count": 51,
   "id": "af4ae96b",
   "metadata": {},
   "outputs": [],
   "source": [
    "#'40-44' no\n",
    "OE18 = 16-ev18\n",
    "square_of_oe18 = OE18**2\n",
    "chi_square.append(square_of_oe18/ev18)"
   ]
  },
  {
   "cell_type": "code",
   "execution_count": 52,
   "id": "20156c45",
   "metadata": {},
   "outputs": [],
   "source": [
    "#'45-49' yes\n",
    "OE19 = 1-ev19\n",
    "square_of_oe19 = OE19**2\n",
    "chi_square.append(square_of_oe19/ev19)"
   ]
  },
  {
   "cell_type": "code",
   "execution_count": 53,
   "id": "5f2158f8",
   "metadata": {},
   "outputs": [],
   "source": [
    "#'45-49' no\n",
    "OE20 = 2-ev20\n",
    "square_of_oe20 = OE20**2\n",
    "chi_square.append(square_of_oe20/ev20)"
   ]
  },
  {
   "cell_type": "code",
   "execution_count": 54,
   "id": "abeb83f6",
   "metadata": {},
   "outputs": [],
   "source": [
    "#'50-54' yes\n",
    "OE21 = 2-ev21\n",
    "square_of_oe21 = OE21**2\n",
    "chi_square.append(square_of_oe21/ev21)"
   ]
  },
  {
   "cell_type": "code",
   "execution_count": 55,
   "id": "9bb0916e",
   "metadata": {},
   "outputs": [],
   "source": [
    "#'50-54' no\n",
    "OE22 = 6-ev22\n",
    "square_of_oe22 = OE22**2\n",
    "chi_square.append(square_of_oe22/ev22)"
   ]
  },
  {
   "cell_type": "code",
   "execution_count": 56,
   "id": "b3526fc0",
   "metadata": {},
   "outputs": [
    {
     "data": {
      "text/plain": [
       "[1.6115107913669064,\n",
       " 0.4065072266511114,\n",
       " 0.8057553956834532,\n",
       " 0.2032536133255557,\n",
       " 3.81758368815152,\n",
       " 0.9629940834976792,\n",
       " 0.5806428748626715,\n",
       " 0.1464684729383314,\n",
       " 0.04629689105858174,\n",
       " 0.01167849504180428,\n",
       " 0.007274852386997969,\n",
       " 0.0018350978994228632,\n",
       " 1.5947832866711555,\n",
       " 0.4022876759170485,\n",
       " 2.62996970844377,\n",
       " 0.6634157823101415,\n",
       " 0.555031299635617,\n",
       " 0.14000789540357872,\n",
       " 0.25907845152449466,\n",
       " 0.0653531229070798,\n",
       " 0.09365364850976364,\n",
       " 0.023624343768228688]"
      ]
     },
     "execution_count": 56,
     "metadata": {},
     "output_type": "execute_result"
    }
   ],
   "source": [
    "chi_square"
   ]
  },
  {
   "cell_type": "code",
   "execution_count": 57,
   "id": "72e6412e",
   "metadata": {},
   "outputs": [
    {
     "data": {
      "text/plain": [
       "15.029006697954912"
      ]
     },
     "execution_count": 57,
     "metadata": {},
     "output_type": "execute_result"
    }
   ],
   "source": [
    "chi_square_value = sum(chi_square)\n",
    "\n",
    "chi_square_value"
   ]
  },
  {
   "cell_type": "markdown",
   "id": "9a20cce0",
   "metadata": {},
   "source": [
    "Pada hasil perhitungan didapat bahwa chi square value = 15.029006697954912\n",
    "\n",
    "degree of freedom = (11-1)*(2-1) = 10\n",
    "\n",
    "Jika selang tingkat kepercayaan yang kita gunakan adalah 95%, maka nilai 𝛼 = 0.05\n",
    "berdasarkan tabel persentase nilai distribusi chi square (dengan degree of freedom = 10 dan 𝛼 = 0.05)nilai/batasnya = 18.31\n",
    "\n",
    "Maka, nilai chi square bisa diterima karena <18.31 atau dengan kata lain berada pada accepted region."
   ]
  },
  {
   "cell_type": "code",
   "execution_count": null,
   "id": "f61baa1a",
   "metadata": {},
   "outputs": [],
   "source": []
  }
 ],
 "metadata": {
  "kernelspec": {
   "display_name": "Python 3 (ipykernel)",
   "language": "python",
   "name": "python3"
  },
  "language_info": {
   "codemirror_mode": {
    "name": "ipython",
    "version": 3
   },
   "file_extension": ".py",
   "mimetype": "text/x-python",
   "name": "python",
   "nbconvert_exporter": "python",
   "pygments_lexer": "ipython3",
   "version": "3.9.5"
  }
 },
 "nbformat": 4,
 "nbformat_minor": 5
}
