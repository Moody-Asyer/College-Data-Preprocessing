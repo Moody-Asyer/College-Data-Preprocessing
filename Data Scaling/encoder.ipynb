{
 "cells": [
  {
   "cell_type": "code",
   "execution_count": 66,
   "id": "f5a90e85",
   "metadata": {},
   "outputs": [],
   "source": [
    "import pandas as pd\n",
    "from numpy import mean\n",
    "from numpy import std\n",
    "from matplotlib import pyplot\n",
    "from sklearn.ensemble import RandomForestRegressor\n",
    "from sklearn.model_selection import train_test_split\n",
    "from sklearn.model_selection import cross_val_score\n",
    "from sklearn.model_selection import KFold\n",
    "from sklearn.neighbors import KNeighborsClassifier\n",
    "from sklearn.preprocessing import LabelEncoder\n",
    "from sklearn.preprocessing import OrdinalEncoder\n",
    "from sklearn.preprocessing import OneHotEncoder\n",
    "from sklearn.metrics import accuracy_score"
   ]
  },
  {
   "cell_type": "code",
   "execution_count": 67,
   "id": "03c71a1d",
   "metadata": {},
   "outputs": [],
   "source": [
    "dataset = pd.read_csv('Public Service/DKI Jakarta/Transportasi/agustus-2019-data-kecepatan-rata-rata-di-41-koridor-jalan-utama-pada-jam-sibuk.csv')"
   ]
  },
  {
   "cell_type": "code",
   "execution_count": 68,
   "id": "3667539d",
   "metadata": {},
   "outputs": [
    {
     "data": {
      "text/html": [
       "<div>\n",
       "<style scoped>\n",
       "    .dataframe tbody tr th:only-of-type {\n",
       "        vertical-align: middle;\n",
       "    }\n",
       "\n",
       "    .dataframe tbody tr th {\n",
       "        vertical-align: top;\n",
       "    }\n",
       "\n",
       "    .dataframe thead th {\n",
       "        text-align: right;\n",
       "    }\n",
       "</style>\n",
       "<table border=\"1\" class=\"dataframe\">\n",
       "  <thead>\n",
       "    <tr style=\"text-align: right;\">\n",
       "      <th></th>\n",
       "      <th>jarak</th>\n",
       "      <th>target_waktu_tempuh</th>\n",
       "      <th>pencapaian_kecepatan_per_koridor</th>\n",
       "      <th>pencapaian_kecepatan</th>\n",
       "      <th>pencapaian_waktu_tempuh</th>\n",
       "    </tr>\n",
       "  </thead>\n",
       "  <tbody>\n",
       "    <tr>\n",
       "      <th>0</th>\n",
       "      <td>19.62</td>\n",
       "      <td>56.06</td>\n",
       "      <td>22.77</td>\n",
       "      <td>24.36</td>\n",
       "      <td>58.82</td>\n",
       "    </tr>\n",
       "    <tr>\n",
       "      <th>1</th>\n",
       "      <td>13.36</td>\n",
       "      <td>38.17</td>\n",
       "      <td>24.14</td>\n",
       "      <td>24.36</td>\n",
       "      <td>36.88</td>\n",
       "    </tr>\n",
       "    <tr>\n",
       "      <th>2</th>\n",
       "      <td>11.13</td>\n",
       "      <td>31.80</td>\n",
       "      <td>29.64</td>\n",
       "      <td>24.36</td>\n",
       "      <td>25.99</td>\n",
       "    </tr>\n",
       "    <tr>\n",
       "      <th>3</th>\n",
       "      <td>16.25</td>\n",
       "      <td>46.43</td>\n",
       "      <td>25.82</td>\n",
       "      <td>24.36</td>\n",
       "      <td>44.35</td>\n",
       "    </tr>\n",
       "    <tr>\n",
       "      <th>4</th>\n",
       "      <td>15.87</td>\n",
       "      <td>45.34</td>\n",
       "      <td>28.18</td>\n",
       "      <td>24.36</td>\n",
       "      <td>37.33</td>\n",
       "    </tr>\n",
       "    <tr>\n",
       "      <th>...</th>\n",
       "      <td>...</td>\n",
       "      <td>...</td>\n",
       "      <td>...</td>\n",
       "      <td>...</td>\n",
       "      <td>...</td>\n",
       "    </tr>\n",
       "    <tr>\n",
       "      <th>77</th>\n",
       "      <td>20.29</td>\n",
       "      <td>57.97</td>\n",
       "      <td>21.01</td>\n",
       "      <td>23.46</td>\n",
       "      <td>58.78</td>\n",
       "    </tr>\n",
       "    <tr>\n",
       "      <th>78</th>\n",
       "      <td>14.47</td>\n",
       "      <td>41.34</td>\n",
       "      <td>20.41</td>\n",
       "      <td>20.25</td>\n",
       "      <td>45.81</td>\n",
       "    </tr>\n",
       "    <tr>\n",
       "      <th>79</th>\n",
       "      <td>15.55</td>\n",
       "      <td>44.43</td>\n",
       "      <td>17.41</td>\n",
       "      <td>20.25</td>\n",
       "      <td>56.99</td>\n",
       "    </tr>\n",
       "    <tr>\n",
       "      <th>80</th>\n",
       "      <td>17.43</td>\n",
       "      <td>49.80</td>\n",
       "      <td>22.10</td>\n",
       "      <td>20.25</td>\n",
       "      <td>54.92</td>\n",
       "    </tr>\n",
       "    <tr>\n",
       "      <th>81</th>\n",
       "      <td>16.23</td>\n",
       "      <td>46.37</td>\n",
       "      <td>21.08</td>\n",
       "      <td>20.25</td>\n",
       "      <td>52.68</td>\n",
       "    </tr>\n",
       "  </tbody>\n",
       "</table>\n",
       "<p>82 rows × 5 columns</p>\n",
       "</div>"
      ],
      "text/plain": [
       "    jarak  target_waktu_tempuh  pencapaian_kecepatan_per_koridor  \\\n",
       "0   19.62                56.06                             22.77   \n",
       "1   13.36                38.17                             24.14   \n",
       "2   11.13                31.80                             29.64   \n",
       "3   16.25                46.43                             25.82   \n",
       "4   15.87                45.34                             28.18   \n",
       "..    ...                  ...                               ...   \n",
       "77  20.29                57.97                             21.01   \n",
       "78  14.47                41.34                             20.41   \n",
       "79  15.55                44.43                             17.41   \n",
       "80  17.43                49.80                             22.10   \n",
       "81  16.23                46.37                             21.08   \n",
       "\n",
       "    pencapaian_kecepatan  pencapaian_waktu_tempuh  \n",
       "0                  24.36                    58.82  \n",
       "1                  24.36                    36.88  \n",
       "2                  24.36                    25.99  \n",
       "3                  24.36                    44.35  \n",
       "4                  24.36                    37.33  \n",
       "..                   ...                      ...  \n",
       "77                 23.46                    58.78  \n",
       "78                 20.25                    45.81  \n",
       "79                 20.25                    56.99  \n",
       "80                 20.25                    54.92  \n",
       "81                 20.25                    52.68  \n",
       "\n",
       "[82 rows x 5 columns]"
      ]
     },
     "execution_count": 68,
     "metadata": {},
     "output_type": "execute_result"
    }
   ],
   "source": [
    "data = dataset.drop(['waktu', 'arah', 'koridor', 'target_kecepatan'],axis=1)\n",
    "data"
   ]
  },
  {
   "cell_type": "code",
   "execution_count": 69,
   "id": "1e80df65",
   "metadata": {},
   "outputs": [],
   "source": [
    "# ordinal encoder"
   ]
  },
  {
   "cell_type": "code",
   "execution_count": 70,
   "id": "c48c5de7",
   "metadata": {},
   "outputs": [
    {
     "name": "stderr",
     "output_type": "stream",
     "text": [
      "c:\\users\\moody asyer\\appdata\\local\\programs\\python\\python39\\lib\\site-packages\\sklearn\\utils\\validation.py:63: DataConversionWarning: A column-vector y was passed when a 1d array was expected. Please change the shape of y to (n_samples, ), for example using ravel().\n",
      "  return f(*args, **kwargs)\n"
     ]
    },
    {
     "data": {
      "text/plain": [
       "array([[11., 11., 25.,  9.],\n",
       "       [ 8.,  8., 33.,  5.],\n",
       "       [26., 26.,  4.,  0.],\n",
       "       [10., 10., 14., 10.],\n",
       "       [29., 29., 11.,  1.],\n",
       "       [ 3.,  3., 39.,  9.],\n",
       "       [18., 18., 43., 12.],\n",
       "       [22., 22., 27., 13.],\n",
       "       [35., 35., 21., 10.],\n",
       "       [22., 22.,  2.,  1.],\n",
       "       [25., 25., 30.,  7.],\n",
       "       [34., 34., 19.,  4.],\n",
       "       [16., 16.,  9.,  4.],\n",
       "       [25., 25., 24.,  9.],\n",
       "       [32., 32., 42., 11.],\n",
       "       [27., 27., 20., 10.],\n",
       "       [36., 36.,  8.,  3.],\n",
       "       [14., 14., 23.,  8.],\n",
       "       [33., 33., 13.,  7.],\n",
       "       [15., 15.,  1.,  5.],\n",
       "       [ 9.,  9., 10.,  4.],\n",
       "       [28., 28., 18.,  3.],\n",
       "       [17., 17.,  5.,  1.],\n",
       "       [14., 14., 40., 12.],\n",
       "       [ 7.,  7., 15.,  6.],\n",
       "       [13., 13., 37., 10.],\n",
       "       [15., 15., 40., 14.],\n",
       "       [21., 21., 41., 15.],\n",
       "       [ 5.,  5., 26.,  4.],\n",
       "       [36., 36., 44., 11.],\n",
       "       [33., 33., 28.,  9.],\n",
       "       [19., 19., 45., 12.],\n",
       "       [ 2.,  2., 49., 10.],\n",
       "       [24., 24., 38.,  7.],\n",
       "       [31., 31.,  6.,  0.],\n",
       "       [ 5.,  5., 34.,  6.],\n",
       "       [ 0.,  0., 51., 15.],\n",
       "       [31., 31., 47., 15.],\n",
       "       [32., 32., 35.,  3.],\n",
       "       [20., 20., 31.,  8.],\n",
       "       [18., 18., 33.,  8.],\n",
       "       [ 1.,  1., 32., 11.],\n",
       "       [23., 23., 50., 10.],\n",
       "       [12., 12., 12.,  7.],\n",
       "       [21., 21.,  0.,  0.],\n",
       "       [11., 11., 22.,  7.],\n",
       "       [34., 34., 16.,  6.],\n",
       "       [ 2.,  2., 46.,  2.],\n",
       "       [ 6.,  6.,  3.,  7.],\n",
       "       [ 4.,  4., 36.,  5.],\n",
       "       [ 1.,  1., 17.,  3.],\n",
       "       [30., 30.,  7.,  0.],\n",
       "       [ 9.,  9., 29.,  6.],\n",
       "       [17., 17., 48., 13.]])"
      ]
     },
     "execution_count": 70,
     "metadata": {},
     "output_type": "execute_result"
    }
   ],
   "source": [
    "new_data = data.values[:, :-1]\n",
    "X = new_data[:, :4]\n",
    "y = new_data[:, [-1]]\n",
    "X_train, X_test, y_train, y_test = train_test_split(X, y, test_size=0.33, random_state=1)\n",
    "ordinal_encoder = OrdinalEncoder()\n",
    "X_train = ordinal_encoder.fit_transform(X_train)\n",
    "X_test = ordinal_encoder.fit_transform(X_test)\n",
    "# ordinal encode target variable\n",
    "label_encoder = LabelEncoder()\n",
    "y_train = label_encoder.fit_transform(y_train)\n",
    "y_test = label_encoder.fit_transform(y_test)\n",
    "X_train"
   ]
  },
  {
   "cell_type": "code",
   "execution_count": 71,
   "id": "e8ba2f4f",
   "metadata": {},
   "outputs": [
    {
     "data": {
      "text/plain": [
       "array([[13., 13.,  2.,  3.],\n",
       "       [ 0.,  0.,  9.,  0.],\n",
       "       [ 8.,  8., 16.,  9.],\n",
       "       [ 4.,  4., 11.,  4.],\n",
       "       [16., 16., 19., 12.],\n",
       "       [18., 18.,  1.,  2.],\n",
       "       [12., 12., 15., 11.],\n",
       "       [16., 16.,  5.,  1.],\n",
       "       [22., 22.,  4.,  5.],\n",
       "       [15., 15., 22.,  9.],\n",
       "       [ 6.,  6., 12.,  5.],\n",
       "       [14., 14.,  6.,  2.],\n",
       "       [19., 19., 18., 10.],\n",
       "       [22., 22., 13., 13.],\n",
       "       [ 9.,  9.,  8.,  2.],\n",
       "       [17., 17., 17., 14.],\n",
       "       [ 6.,  6., 23., 13.],\n",
       "       [21., 21., 27., 14.],\n",
       "       [13., 13., 21., 10.],\n",
       "       [20., 20., 24., 12.],\n",
       "       [ 1.,  1., 20.,  7.],\n",
       "       [ 5.,  5., 25., 13.],\n",
       "       [ 2.,  2., 26., 13.],\n",
       "       [ 3.,  3., 10.,  9.],\n",
       "       [10., 10.,  7.,  6.],\n",
       "       [ 7.,  7.,  0.,  2.],\n",
       "       [23., 23.,  3.,  2.],\n",
       "       [11., 11., 14.,  8.]])"
      ]
     },
     "execution_count": 71,
     "metadata": {},
     "output_type": "execute_result"
    }
   ],
   "source": [
    "X_test"
   ]
  },
  {
   "cell_type": "code",
   "execution_count": 72,
   "id": "86ac57c3",
   "metadata": {},
   "outputs": [
    {
     "data": {
      "text/plain": [
       "array([ 9,  5,  0, 10,  1,  9, 12, 13, 10,  1,  7,  4,  4,  9, 11, 10,  3,\n",
       "        8,  7,  5,  4,  3,  1, 12,  6, 10, 14, 15,  4, 11,  9, 12, 10,  7,\n",
       "        0,  6, 15, 15,  3,  8,  8, 11, 10,  7,  0,  7,  6,  2,  7,  5,  3,\n",
       "        0,  6, 13], dtype=int64)"
      ]
     },
     "execution_count": 72,
     "metadata": {},
     "output_type": "execute_result"
    }
   ],
   "source": [
    "y_train"
   ]
  },
  {
   "cell_type": "code",
   "execution_count": 73,
   "id": "cc4dcfc2",
   "metadata": {},
   "outputs": [
    {
     "data": {
      "text/plain": [
       "array([ 3,  0,  9,  4, 12,  2, 11,  1,  5,  9,  5,  2, 10, 13,  2, 14, 13,\n",
       "       14, 10, 12,  7, 13, 13,  9,  6,  2,  2,  8], dtype=int64)"
      ]
     },
     "execution_count": 73,
     "metadata": {},
     "output_type": "execute_result"
    }
   ],
   "source": [
    "y_test"
   ]
  },
  {
   "cell_type": "code",
   "execution_count": 74,
   "id": "c60b43f6",
   "metadata": {},
   "outputs": [
    {
     "name": "stdout",
     "output_type": "stream",
     "text": [
      "Accuracy: 98.95159 (0.00957)\n"
     ]
    }
   ],
   "source": [
    "model = RandomForestRegressor()\n",
    "cv = KFold(n_splits=10)\n",
    "n_scores = cross_val_score(model, X_train, y_train, scoring = 'r2', cv = cv, n_jobs= -1)\n",
    "print('Accuracy: %.5f (%.5f)' % (mean(n_scores)*100, std(n_scores)))"
   ]
  },
  {
   "cell_type": "code",
   "execution_count": 75,
   "id": "0653fc5f",
   "metadata": {},
   "outputs": [
    {
     "name": "stderr",
     "output_type": "stream",
     "text": [
      "c:\\users\\moody asyer\\appdata\\local\\programs\\python\\python39\\lib\\site-packages\\sklearn\\utils\\validation.py:63: DataConversionWarning: A column-vector y was passed when a 1d array was expected. Please change the shape of y to (n_samples, ), for example using ravel().\n",
      "  return f(*args, **kwargs)\n"
     ]
    },
    {
     "data": {
      "text/plain": [
       "<54x142 sparse matrix of type '<class 'numpy.float64'>'\n",
       "\twith 216 stored elements in Compressed Sparse Row format>"
      ]
     },
     "execution_count": 75,
     "metadata": {},
     "output_type": "execute_result"
    }
   ],
   "source": [
    "# one-hot encoder\n",
    "new_data_1 = data.values[:, :-1]\n",
    "X_1 = new_data_1[:, :4]\n",
    "y_1 = new_data_1[:, [-1]]\n",
    "X_train, X_test, y_train, y_test = train_test_split(X_1, y_1, test_size=0.33, random_state=1)\n",
    "oneHot_encoder = OneHotEncoder()\n",
    "X_train = oneHot_encoder.fit_transform(X_train)\n",
    "X_test = oneHot_encoder.fit_transform(X_test)\n",
    "# one-hot encoder target variable\n",
    "label_encoder = LabelEncoder()\n",
    "y_train = label_encoder.fit_transform(y_train)\n",
    "y_test = label_encoder.fit_transform(y_test)\n",
    "X_train"
   ]
  },
  {
   "cell_type": "code",
   "execution_count": 76,
   "id": "b72009b9",
   "metadata": {},
   "outputs": [
    {
     "data": {
      "text/plain": [
       "<28x91 sparse matrix of type '<class 'numpy.float64'>'\n",
       "\twith 112 stored elements in Compressed Sparse Row format>"
      ]
     },
     "execution_count": 76,
     "metadata": {},
     "output_type": "execute_result"
    }
   ],
   "source": [
    "X_test"
   ]
  },
  {
   "cell_type": "code",
   "execution_count": 77,
   "id": "63b21278",
   "metadata": {},
   "outputs": [
    {
     "data": {
      "text/plain": [
       "array([ 9,  5,  0, 10,  1,  9, 12, 13, 10,  1,  7,  4,  4,  9, 11, 10,  3,\n",
       "        8,  7,  5,  4,  3,  1, 12,  6, 10, 14, 15,  4, 11,  9, 12, 10,  7,\n",
       "        0,  6, 15, 15,  3,  8,  8, 11, 10,  7,  0,  7,  6,  2,  7,  5,  3,\n",
       "        0,  6, 13], dtype=int64)"
      ]
     },
     "execution_count": 77,
     "metadata": {},
     "output_type": "execute_result"
    }
   ],
   "source": [
    "y_train"
   ]
  },
  {
   "cell_type": "code",
   "execution_count": 78,
   "id": "bf0ebec9",
   "metadata": {},
   "outputs": [
    {
     "data": {
      "text/plain": [
       "array([ 3,  0,  9,  4, 12,  2, 11,  1,  5,  9,  5,  2, 10, 13,  2, 14, 13,\n",
       "       14, 10, 12,  7, 13, 13,  9,  6,  2,  2,  8], dtype=int64)"
      ]
     },
     "execution_count": 78,
     "metadata": {},
     "output_type": "execute_result"
    }
   ],
   "source": [
    "y_test"
   ]
  },
  {
   "cell_type": "code",
   "execution_count": 79,
   "id": "814ece5d",
   "metadata": {},
   "outputs": [
    {
     "name": "stdout",
     "output_type": "stream",
     "text": [
      "Accuracy: 54.33122 (0.33844)\n"
     ]
    }
   ],
   "source": [
    "model = RandomForestRegressor()\n",
    "cv = KFold(n_splits=10)\n",
    "n_scores = cross_val_score(model, X_train, y_train, scoring = 'r2', cv = cv, n_jobs= -1)\n",
    "print('Accuracy: %.5f (%.5f)' % (mean(n_scores)*100, std(n_scores)))"
   ]
  },
  {
   "cell_type": "code",
   "execution_count": null,
   "id": "4af2323b",
   "metadata": {},
   "outputs": [],
   "source": []
  }
 ],
 "metadata": {
  "kernelspec": {
   "display_name": "Python 3 (ipykernel)",
   "language": "python",
   "name": "python3"
  },
  "language_info": {
   "codemirror_mode": {
    "name": "ipython",
    "version": 3
   },
   "file_extension": ".py",
   "mimetype": "text/x-python",
   "name": "python",
   "nbconvert_exporter": "python",
   "pygments_lexer": "ipython3",
   "version": "3.9.5"
  }
 },
 "nbformat": 4,
 "nbformat_minor": 5
}
